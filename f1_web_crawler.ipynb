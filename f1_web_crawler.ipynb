{
 "cells": [
  {
   "cell_type": "code",
   "execution_count": 1,
   "metadata": {},
   "outputs": [],
   "source": [
    "import requests\n",
    "from bs4 import BeautifulSoup"
   ]
  },
  {
   "cell_type": "code",
   "execution_count": 40,
   "metadata": {},
   "outputs": [],
   "source": [
    "url = 'https://www.formula1.com/en/results.html/2024/drivers.html'\n",
    "response = requests.get(url)"
   ]
  },
  {
   "cell_type": "code",
   "execution_count": 56,
   "metadata": {},
   "outputs": [
    {
     "name": "stdout",
     "output_type": "stream",
     "text": [
      "1   | Max Verstappen       | NED | Red Bull Racing Honda RBPT          | 161 \n",
      "\n",
      "2   | Charles Leclerc      | MON | Ferrari                             | 113 \n",
      "\n",
      "3   | Sergio Perez         | MEX | Red Bull Racing Honda RBPT          | 107 \n",
      "\n",
      "4   | Lando Norris         | GBR | McLaren Mercedes                    | 101 \n",
      "\n",
      "5   | Carlos Sainz         | ESP | Ferrari                             | 93  \n",
      "\n",
      "6   | Oscar Piastri        | AUS | McLaren Mercedes                    | 53  \n",
      "\n",
      "7   | George Russell       | GBR | Mercedes                            | 44  \n",
      "\n",
      "8   | Lewis Hamilton       | GBR | Mercedes                            | 35  \n",
      "\n",
      "9   | Fernando Alonso      | ESP | Aston Martin Aramco Mercedes        | 33  \n",
      "\n",
      "10  | Yuki Tsunoda         | JPN | RB Honda RBPT                       | 15  \n",
      "\n",
      "11  | Lance Stroll         | CAN | Aston Martin Aramco Mercedes        | 11  \n",
      "\n",
      "12  | Oliver Bearman       | GBR | Ferrari                             | 6   \n",
      "\n",
      "13  | Nico Hulkenberg      | GER | Haas Ferrari                        | 6   \n",
      "\n",
      "14  | Daniel Ricciardo     | AUS | RB Honda RBPT                       | 5   \n",
      "\n",
      "15  | Esteban Ocon         | FRA | Alpine Renault                      | 1   \n",
      "\n",
      "16  | Kevin Magnussen      | DEN | Haas Ferrari                        | 1   \n",
      "\n",
      "17  | Alexander Albon      | THA | Williams Mercedes                   | 0   \n",
      "\n",
      "18  | Zhou Guanyu          | CHN | Kick Sauber Ferrari                 | 0   \n",
      "\n",
      "19  | Pierre Gasly         | FRA | Alpine Renault                      | 0   \n",
      "\n",
      "20  | Valtteri Bottas      | FIN | Kick Sauber Ferrari                 | 0   \n",
      "\n",
      "21  | Logan Sargeant       | USA | Williams Mercedes                   | 0   \n",
      "\n"
     ]
    }
   ],
   "source": [
    "if response.status_code == 200:\n",
    "    soup = BeautifulSoup(response.content, 'html.parser')\n",
    "    table = soup.find('table', class_='resultsarchive-table')\n",
    "    # Extract the rows of the table\n",
    "    rows = table.find_all('tr')\n",
    "    \n",
    "    for row_id, row in enumerate(rows):\n",
    "        columns = row.find_all('td')\n",
    "        if columns:\n",
    "            position = columns[1].text.strip()\n",
    "            driver_name = columns[2].text.strip().split('\\n')\n",
    "            driver_name = ' '.join(driver_name[:-1])\n",
    "            nationality = columns[3].text.strip()\n",
    "            car = columns[4].text.strip()\n",
    "            points = columns[5].text.strip()\n",
    "            print(f\"{position:<3} | {driver_name:<20} | {nationality:<3} | {car:<35} | {points:<4}\\n\")"
   ]
  }
 ],
 "metadata": {
  "kernelspec": {
   "display_name": "venv",
   "language": "python",
   "name": "python3"
  },
  "language_info": {
   "codemirror_mode": {
    "name": "ipython",
    "version": 3
   },
   "file_extension": ".py",
   "mimetype": "text/x-python",
   "name": "python",
   "nbconvert_exporter": "python",
   "pygments_lexer": "ipython3",
   "version": "3.11.8"
  }
 },
 "nbformat": 4,
 "nbformat_minor": 2
}

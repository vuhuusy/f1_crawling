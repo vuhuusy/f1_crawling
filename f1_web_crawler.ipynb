{
 "cells": [
  {
   "cell_type": "code",
   "execution_count": 3,
   "metadata": {},
   "outputs": [],
   "source": [
    "import requests\n",
    "from bs4 import BeautifulSoup\n",
    "import pandas as pd"
   ]
  },
  {
   "cell_type": "code",
   "execution_count": 4,
   "metadata": {},
   "outputs": [],
   "source": [
    "url = 'https://www.formula1.com/en/results.html/2024/drivers.html'\n",
    "response = requests.get(url)"
   ]
  },
  {
   "cell_type": "code",
   "execution_count": 5,
   "metadata": {},
   "outputs": [],
   "source": [
    "if response.status_code == 200:\n",
    "    soup = BeautifulSoup(response.content, 'html.parser')\n",
    "    table = soup.find('table', class_='resultsarchive-table')\n",
    "    # Extract the rows of the table\n",
    "    rows = table.find_all('tr')\n",
    "    \n",
    "    positions = []\n",
    "    driver_names = []\n",
    "    nationalities = []\n",
    "    cars = []\n",
    "    points = []\n",
    "    \n",
    "    for row_id, row in enumerate(rows):\n",
    "        columns = row.find_all('td')\n",
    "        if columns:\n",
    "            positions.append(columns[1].text.strip())\n",
    "            raw_name = columns[2].text.strip().split('\\n')\n",
    "            driver_names.append(' '.join(raw_name[:-1]))\n",
    "            nationalities.append(columns[3].text.strip())\n",
    "            cars.append(columns[4].text.strip())\n",
    "            points.append(columns[5].text.strip())"
   ]
  },
  {
   "cell_type": "code",
   "execution_count": 6,
   "metadata": {},
   "outputs": [],
   "source": [
    "data = {\n",
    "    \"POS\": positions,\n",
    "    \"Driver\": driver_names,\n",
    "    \"Nationality\": nationalities,\n",
    "    \"Car\": cars,\n",
    "    \"PTS\": points\n",
    "}\n",
    "\n",
    "df = pd.DataFrame(data)"
   ]
  },
  {
   "cell_type": "code",
   "execution_count": 7,
   "metadata": {},
   "outputs": [
    {
     "data": {
      "text/html": [
       "<div>\n",
       "<style scoped>\n",
       "    .dataframe tbody tr th:only-of-type {\n",
       "        vertical-align: middle;\n",
       "    }\n",
       "\n",
       "    .dataframe tbody tr th {\n",
       "        vertical-align: top;\n",
       "    }\n",
       "\n",
       "    .dataframe thead th {\n",
       "        text-align: right;\n",
       "    }\n",
       "</style>\n",
       "<table border=\"1\" class=\"dataframe\">\n",
       "  <thead>\n",
       "    <tr style=\"text-align: right;\">\n",
       "      <th></th>\n",
       "      <th>POS</th>\n",
       "      <th>Driver</th>\n",
       "      <th>Nationality</th>\n",
       "      <th>Car</th>\n",
       "      <th>PTS</th>\n",
       "    </tr>\n",
       "  </thead>\n",
       "  <tbody>\n",
       "    <tr>\n",
       "      <th>0</th>\n",
       "      <td>1</td>\n",
       "      <td>Max Verstappen</td>\n",
       "      <td>NED</td>\n",
       "      <td>Red Bull Racing Honda RBPT</td>\n",
       "      <td>161</td>\n",
       "    </tr>\n",
       "    <tr>\n",
       "      <th>1</th>\n",
       "      <td>2</td>\n",
       "      <td>Charles Leclerc</td>\n",
       "      <td>MON</td>\n",
       "      <td>Ferrari</td>\n",
       "      <td>113</td>\n",
       "    </tr>\n",
       "    <tr>\n",
       "      <th>2</th>\n",
       "      <td>3</td>\n",
       "      <td>Sergio Perez</td>\n",
       "      <td>MEX</td>\n",
       "      <td>Red Bull Racing Honda RBPT</td>\n",
       "      <td>107</td>\n",
       "    </tr>\n",
       "    <tr>\n",
       "      <th>3</th>\n",
       "      <td>4</td>\n",
       "      <td>Lando Norris</td>\n",
       "      <td>GBR</td>\n",
       "      <td>McLaren Mercedes</td>\n",
       "      <td>101</td>\n",
       "    </tr>\n",
       "    <tr>\n",
       "      <th>4</th>\n",
       "      <td>5</td>\n",
       "      <td>Carlos Sainz</td>\n",
       "      <td>ESP</td>\n",
       "      <td>Ferrari</td>\n",
       "      <td>93</td>\n",
       "    </tr>\n",
       "  </tbody>\n",
       "</table>\n",
       "</div>"
      ],
      "text/plain": [
       "  POS           Driver Nationality                         Car  PTS\n",
       "0   1   Max Verstappen         NED  Red Bull Racing Honda RBPT  161\n",
       "1   2  Charles Leclerc         MON                     Ferrari  113\n",
       "2   3     Sergio Perez         MEX  Red Bull Racing Honda RBPT  107\n",
       "3   4     Lando Norris         GBR            McLaren Mercedes  101\n",
       "4   5     Carlos Sainz         ESP                     Ferrari   93"
      ]
     },
     "execution_count": 7,
     "metadata": {},
     "output_type": "execute_result"
    }
   ],
   "source": [
    "df.head()"
   ]
  },
  {
   "cell_type": "code",
   "execution_count": 8,
   "metadata": {},
   "outputs": [],
   "source": [
    "df.to_csv('./data/f1_2024.csv', index=False)"
   ]
  }
 ],
 "metadata": {
  "kernelspec": {
   "display_name": "venv",
   "language": "python",
   "name": "python3"
  },
  "language_info": {
   "codemirror_mode": {
    "name": "ipython",
    "version": 3
   },
   "file_extension": ".py",
   "mimetype": "text/x-python",
   "name": "python",
   "nbconvert_exporter": "python",
   "pygments_lexer": "ipython3",
   "version": "3.11.8"
  }
 },
 "nbformat": 4,
 "nbformat_minor": 2
}
